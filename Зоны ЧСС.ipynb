{
 "cells": [
  {
   "cell_type": "code",
   "execution_count": 1,
   "metadata": {},
   "outputs": [],
   "source": [
    "def HR_zone(HRmin, HRmax, HRmax_p):\n",
    "    return (HRmax - HRmin) * HRmax_p / 100 + HRmin"
   ]
  },
  {
   "cell_type": "code",
   "execution_count": 2,
   "metadata": {},
   "outputs": [],
   "source": [
    "zones = {'Зона 1':[50,60],'Зона 2':[60,70],'Зона 3':[70,80],'Зона 4':[80,90],'Зона 5':[90,100]}"
   ]
  },
  {
   "cell_type": "code",
   "execution_count": 13,
   "metadata": {},
   "outputs": [],
   "source": [
    "age = 29\n",
    "HRmin = 52"
   ]
  },
  {
   "cell_type": "code",
   "execution_count": 15,
   "metadata": {},
   "outputs": [
    {
     "name": "stdout",
     "output_type": "stream",
     "text": [
      "Зона 1: 121 - 135 уд./мин.\n",
      "Зона 2: 135 - 149 уд./мин.\n",
      "Зона 3: 149 - 163 уд./мин.\n",
      "Зона 4: 163 - 177 уд./мин.\n",
      "Зона 5: 177 - 191 уд./мин.\n",
      "Максимальный пульс: 191 уд./мин.\n"
     ]
    }
   ],
   "source": [
    "HRmax = 205.8 - (0.685 * age)\n",
    "HRmax = 210 - age / 2 - 78 * 0.11 + 4\n",
    "for desc, zone in zones.items():\n",
    "    print(f'{desc}: {HR_zone(HRmin, HRmax, zone[0]):.0f} - {HR_zone(HRmin, HRmax, zone[1]):.0f} уд./мин.')\n",
    "print(f'Максимальный пульс: {HRmax:.0f} уд./мин.')"
   ]
  },
  {
   "cell_type": "code",
   "execution_count": null,
   "metadata": {},
   "outputs": [],
   "source": []
  }
 ],
 "metadata": {
  "kernelspec": {
   "display_name": "Python 3",
   "language": "python",
   "name": "python3"
  },
  "language_info": {
   "codemirror_mode": {
    "name": "ipython",
    "version": 3
   },
   "file_extension": ".py",
   "mimetype": "text/x-python",
   "name": "python",
   "nbconvert_exporter": "python",
   "pygments_lexer": "ipython3",
   "version": "3.7.3"
  }
 },
 "nbformat": 4,
 "nbformat_minor": 2
}
